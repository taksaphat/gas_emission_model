{
  "nbformat": 4,
  "nbformat_minor": 0,
  "metadata": {
    "colab": {
      "name": "Model_final_.ipynb",
      "provenance": [],
      "authorship_tag": "ABX9TyOLGwbhqJCLB+sNUk0svnae",
      "include_colab_link": true
    },
    "kernelspec": {
      "name": "python3",
      "display_name": "Python 3"
    },
    "language_info": {
      "name": "python"
    }
  },
  "cells": [
    {
      "cell_type": "markdown",
      "metadata": {
        "id": "view-in-github",
        "colab_type": "text"
      },
      "source": [
        "<a href=\"https://colab.research.google.com/github/taksaphat/gas_emission_model/blob/main/Model_final_.ipynb\" target=\"_parent\"><img src=\"https://colab.research.google.com/assets/colab-badge.svg\" alt=\"Open In Colab\"/></a>"
      ]
    },
    {
      "cell_type": "markdown",
      "source": [
        "Import all necessary modules"
      ],
      "metadata": {
        "id": "qx6f6kTnHbsk"
      }
    },
    {
      "cell_type": "code",
      "execution_count": 1,
      "metadata": {
        "id": "7_1_FEJIbQVJ",
        "cellView": "form"
      },
      "outputs": [],
      "source": [
        "#@title\n",
        "from pydrive.auth import GoogleAuth\n",
        "from pydrive.drive import GoogleDrive\n",
        "from google.colab import auth\n",
        "from oauth2client.client import GoogleCredentials\n",
        "import tensorflow as tf\n",
        "import pandas as pd\n",
        "import seaborn as sns  # to plot images and statical version of data\n",
        "import numpy as np\n",
        "import matplotlib.pyplot as plt\n",
        "import requests\n",
        "from sklearn.model_selection import train_test_split\n",
        "from sklearn.preprocessing import PolynomialFeatures\n",
        "from sklearn.pipeline import make_pipeline\n",
        "from sklearn.linear_model import LinearRegression\n",
        "\n",
        "from sklearn.metrics import r2_score\n",
        "from sklearn import metrics\n",
        "import csv"
      ]
    },
    {
      "cell_type": "markdown",
      "source": [
        "get dataset from google drive"
      ],
      "metadata": {
        "id": "kFCfymncHh41"
      }
    },
    {
      "cell_type": "code",
      "source": [
        "auth.authenticate_user()\n",
        "gauth = GoogleAuth()\n",
        "gauth.credentials = GoogleCredentials.get_application_default()\n",
        "drive = GoogleDrive(gauth)"
      ],
      "metadata": {
        "id": "0Is4jHlZbTzp"
      },
      "execution_count": 2,
      "outputs": []
    },
    {
      "cell_type": "code",
      "source": [
        "data = drive.CreateFile({'id':\"1toEuurwskgECiHDSQhOYG6swQRfoTFzD\"})  \n",
        "data.GetContentFile('emission data_fix.csv')  "
      ],
      "metadata": {
        "id": "sjJdgH4qbVz7"
      },
      "execution_count": 3,
      "outputs": []
    },
    {
      "cell_type": "code",
      "source": [
        "dataset = pd.read_csv('emission data_fix.csv')"
      ],
      "metadata": {
        "id": "MFmmUCeGbX8v"
      },
      "execution_count": 4,
      "outputs": []
    },
    {
      "cell_type": "code",
      "source": [
        "fieldnames = ['Year2018', 'Year2019','Year2020','Year2021','Year2022','Year2023','Year2024','Year2025','Year2026','Year2027','Year2028','Year2029','Year2030','Year2031','Year2032','Country','Maxacc','bestdf']\n",
        "with open('countries_prediction_proto.csv', 'w', encoding='UTF8') as f:\n",
        "  writer = csv.writer(f)\n",
        "\n",
        "  # write the header\n",
        "  writer.writerow(fieldnames)\n",
        "\n",
        "  for i in range(229):\n",
        "    #define degree of freedom (df) for polynomial regression\n",
        "    degree = 1\n",
        "    #define empty array for append r2score value each loop\n",
        "    countAcc = []\n",
        "    xdata = np.arange(1998,2018)\n",
        "    ydata = dataset.loc[i, ['1998', '1999', '2000', '2001', '2002', '2003',\n",
        "          '2004', '2005', '2006', '2007', '2008', '2009', '2010', '2011', '2012', '2013', '2014',\n",
        "          '2015', '2016', '2017']].values\n",
        "    \n",
        "    x = xdata\n",
        "    y = ydata\n",
        "    x = xdata.reshape(-1,1)\n",
        "    #split 80/20\n",
        "    while True:\n",
        "      X_train, X_test, y_train, y_test = train_test_split(x,y,test_size=0.2,random_state=42,shuffle=False)\n",
        "      lm=make_pipeline(PolynomialFeatures(degree),LinearRegression())\n",
        "      lm.fit(X_train,y_train)\n",
        "      # test accuracy of trained data (R2_Score)\n",
        "      score_pred = lm.predict(X_test)\n",
        "      score_real = y_test\n",
        "      np.ravel(lm.predict(X_test), order='C')\n",
        "      np.ravel(y_test, order='C')\n",
        "      r2print = r2_score(score_real,score_pred)\n",
        "      countAcc.append(r2print)\n",
        "      #check accuracy at current df and get maximum one\n",
        "      max_value = np.max(countAcc)\n",
        "      if (r2print >= 0.9 and degree >= 3):\n",
        "        break\n",
        "      if (degree < 10):\n",
        "        degree = degree + 1\n",
        "      else:\n",
        "        break\n",
        "    # prediction part\n",
        "    if(max_value == 1 or max_value <= 0.9):\n",
        "      continue\n",
        "    ghgGrow = np.arange(2018, 2032+1)\n",
        "    ghgGrow = ghgGrow.reshape(-1,1)\n",
        "    ghgGrow_pred = lm.predict(ghgGrow)\n",
        "    if(ghgGrow_pred[-1] < 0):\n",
        "      continue\n",
        "    strCountry = str(dataset.loc[i,['Country']].values)\n",
        "    ghgGrow_w = ghgGrow_pred.tolist()\n",
        "    ghgGrow_w.append(strCountry)\n",
        "    ghgGrow_w.append(max_value)\n",
        "    ghgGrow_w.append(np.argmax(countAcc)+1)\n",
        "    # write result in csv\n",
        "    writer.writerow(ghgGrow_w)"
      ],
      "metadata": {
        "id": "iDUHS5W1bcHd"
      },
      "execution_count": 5,
      "outputs": []
    }
  ]
}